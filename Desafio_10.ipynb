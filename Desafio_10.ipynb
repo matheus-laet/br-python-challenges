{
  "nbformat": 4,
  "nbformat_minor": 0,
  "metadata": {
    "anaconda-cloud": {},
    "colab": {
      "name": "Desafio 10.ipynb",
      "provenance": [],
      "include_colab_link": true
    },
    "kernelspec": {
      "display_name": "Python 3",
      "language": "python",
      "name": "python3"
    },
    "language_info": {
      "codemirror_mode": {
        "name": "ipython",
        "version": 3
      },
      "file_extension": ".py",
      "mimetype": "text/x-python",
      "name": "python",
      "nbconvert_exporter": "python",
      "pygments_lexer": "ipython3",
      "version": "3.7.9"
    }
  },
  "cells": [
    {
      "cell_type": "markdown",
      "metadata": {
        "id": "view-in-github",
        "colab_type": "text"
      },
      "source": [
        "<a href=\"https://colab.research.google.com/github/matheus-laet/br-python-challenges/blob/master/Desafio_10.ipynb\" target=\"_parent\"><img src=\"https://colab.research.google.com/assets/colab-badge.svg\" alt=\"Open In Colab\"/></a>"
      ]
    },
    {
      "cell_type": "markdown",
      "metadata": {
        "id": "a4-FLDRof6Jv"
      },
      "source": [
        "### Desafio 10\n",
        "\n",
        "Dada uma lista, divida-a em 3 partes iguais e reverta a ordem de cada lista.\n",
        "\n",
        "**Exemplo:** \n",
        "\n",
        "Entrada: \\\n",
        "sampleList = [11, 45, 8, 23, 14, 12, 78, 45, 89]\n",
        "\n",
        "Saída: \\\n",
        "Parte 1 [8, 45, 11] \\\n",
        "Parte 2 [12, 14, 23] \\\n",
        "Parte 3 [89, 45, 78] "
      ]
    },
    {
      "cell_type": "code",
      "metadata": {
        "id": "IJ70pUjnf6Jw"
      },
      "source": [
        "# Seu código"
      ],
      "execution_count": null,
      "outputs": []
    },
    {
      "cell_type": "code",
      "metadata": {
        "id": "IyzVXvOo_D_y"
      },
      "source": [
        "def divisao:\n",
        "    ls1=[]\n",
        "    ls2=[]\n",
        "    ls3=[]\n",
        "    c=1\n",
        "    for i in Lista[:c*3:]:\n",
        "        if i not in ls1:\n",
        "            ls1.append(i)\n",
        "    for i in Lista[c*3:c*6:]:\n",
        "        if i not in ls2:\n",
        "            ls2.append(i)\n",
        "    for i in Lista[c*6:c*9:]:\n",
        "        if i not in ls3:\n",
        "            ls3.append(i)\n",
        "    print(ls1, ls2, ls3)\n",
        "    ls1.reverse(), ls2.reverse(), ls3.reverse()\n",
        "    print(\"Listas invertidas\", ls1, ls2, ls2)\n"
      ],
      "execution_count": null,
      "outputs": []
    },
    {
      "cell_type": "code",
      "metadata": {
        "id": "exc8v6vy_D_z",
        "outputId": "ac4a4ab0-ae4e-4db5-a587-181239ea9d5a"
      },
      "source": [
        "divisao(Lista)"
      ],
      "execution_count": null,
      "outputs": [
        {
          "output_type": "stream",
          "text": [
            "[11, 45, 8] [23, 14, 12] [78, 45, 89]\n",
            "Listas invertidas [8, 45, 11] [12, 14, 23] [12, 14, 23]\n"
          ],
          "name": "stdout"
        }
      ]
    }
  ]
}