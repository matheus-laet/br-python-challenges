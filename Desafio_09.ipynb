{
  "nbformat": 4,
  "nbformat_minor": 0,
  "metadata": {
    "anaconda-cloud": {},
    "colab": {
      "name": "Desafio 9.ipynb",
      "provenance": [],
      "include_colab_link": true
    },
    "kernelspec": {
      "display_name": "Python 3",
      "language": "python",
      "name": "python3"
    },
    "language_info": {
      "codemirror_mode": {
        "name": "ipython",
        "version": 3
      },
      "file_extension": ".py",
      "mimetype": "text/x-python",
      "name": "python",
      "nbconvert_exporter": "python",
      "pygments_lexer": "ipython3",
      "version": "3.7.9"
    }
  },
  "cells": [
    {
      "cell_type": "markdown",
      "metadata": {
        "id": "view-in-github",
        "colab_type": "text"
      },
      "source": [
        "<a href=\"https://colab.research.google.com/github/matheus-laet/br-python-challenges/blob/master/Desafio_09.ipynb\" target=\"_parent\"><img src=\"https://colab.research.google.com/assets/colab-badge.svg\" alt=\"Open In Colab\"/></a>"
      ]
    },
    {
      "cell_type": "markdown",
      "metadata": {
        "id": "HpvTpUBGf6Jr"
      },
      "source": [
        "### Desafio 9\n",
        "\n",
        "Escreva uma função que retorne a soma dos múltiplos de 3 e 5 entre 0 e um número limite, que vai ser utilizado como parâmetro. \\\n",
        "Por exemplo, se o limite for 20, ele retornará a soma de 3, 5, 6, 9, 10, 12, 15, 18, 20."
      ]
    },
    {
      "cell_type": "code",
      "metadata": {
        "id": "195C6bw-f6Js"
      },
      "source": [
        "# Seu código"
      ],
      "execution_count": null,
      "outputs": []
    },
    {
      "cell_type": "code",
      "metadata": {
        "id": "XCoqGdDi_D_w"
      },
      "source": [
        "\n",
        "def Soma_multiplo(limiti=int):\n",
        "    s5=[]\n",
        "    s3=[]\n",
        "    final=[]\n",
        "    for n in range(0, limiti+1):\n",
        "        if n % 5 == 0 :\n",
        "            s5.append(n)            \n",
        "        elif n % 3 == 0:\n",
        "            s3.append(n)   \n",
        "    final= s3+s5\n",
        "    print(final)      \n",
        "    print(\"A Soma dos numeros é: \", sum(final))"
      ],
      "execution_count": null,
      "outputs": []
    },
    {
      "cell_type": "code",
      "metadata": {
        "id": "g9lN4tZ2_D_w",
        "outputId": "f735b518-a7b8-4d4c-8e9a-f69f1635d1e7"
      },
      "source": [
        "Soma_multiplo(20)"
      ],
      "execution_count": null,
      "outputs": [
        {
          "output_type": "stream",
          "text": [
            "[3, 6, 9, 12, 18, 21, 24, 27, 33, 36, 39, 42, 48, 0, 5, 10, 15, 20, 25, 30, 35, 40, 45, 50]\n",
            "A Soma dos numeros é:  593\n"
          ],
          "name": "stdout"
        }
      ]
    }
  ]
}